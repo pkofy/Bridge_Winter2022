{
 "cells": [
  {
   "cell_type": "markdown",
   "metadata": {
    "id": "rKWpnQPRV8kn"
   },
   "source": [
    "##Math Bridge Week 1 Assignment\n",
    "PK O’Flaherty - pkofy\n",
    "\n",
    "1/8/2022\n",
    "\n",
    "**Chapter 1.  Programming Challenge 1 page 22, Even-Odd Vending Machine**"
   ]
  },
  {
   "cell_type": "code",
   "execution_count": 18,
   "metadata": {
    "id": "cLdEz7vcVcbg"
   },
   "outputs": [],
   "source": [
    "'''\n",
    "Even-odd vending machine\n",
    "'''\n",
    "\n",
    "def evenOddVendingMachine(a):\n",
    "  #Use is_integer() method to display an error message if the input is a number\n",
    "  #with significant digits beyond the decimal point\n",
    "  #I tried casting 'a' as a float to use the is_integer method but couldn't get\n",
    "  #the exception to be thrown.\n",
    "  a = str(a)\n",
    "  try:\n",
    "    int(a)\n",
    "  except:\n",
    "    print('The input is not an integer.')\n",
    "  a = int(a)\n",
    "\n",
    "  #Print whether the number is even or odd\n",
    "  if a % 2 == 0 :\n",
    "    print('even')\n",
    "  else :\n",
    "    print('odd')\n",
    "\n",
    "  #Display the number followed by the next 9 even or odd numbers\n",
    "  for i in range(10) :\n",
    "    print(a + 2*i)\n"
   ]
  },
  {
   "cell_type": "code",
   "execution_count": 19,
   "metadata": {
    "colab": {
     "base_uri": "https://localhost:8080/"
    },
    "id": "66703qZgeYIV",
    "outputId": "89ce38cb-e04b-4aec-841b-ca334be0bed5"
   },
   "outputs": [
    {
     "name": "stdout",
     "output_type": "stream",
     "text": [
      "odd\n",
      "1\n",
      "3\n",
      "5\n",
      "7\n",
      "9\n",
      "11\n",
      "13\n",
      "15\n",
      "17\n",
      "19\n"
     ]
    }
   ],
   "source": [
    "evenOddVendingMachine(1)"
   ]
  },
  {
   "cell_type": "code",
   "execution_count": 20,
   "metadata": {
    "colab": {
     "base_uri": "https://localhost:8080/"
    },
    "id": "PKSr7ZOFg9ZQ",
    "outputId": "ff97e6a5-abed-4c0e-fdfc-e826a04fb381"
   },
   "outputs": [
    {
     "name": "stdout",
     "output_type": "stream",
     "text": [
      "even\n",
      "2\n",
      "4\n",
      "6\n",
      "8\n",
      "10\n",
      "12\n",
      "14\n",
      "16\n",
      "18\n",
      "20\n"
     ]
    }
   ],
   "source": [
    "evenOddVendingMachine(2)"
   ]
  },
  {
   "cell_type": "code",
   "execution_count": 21,
   "metadata": {
    "colab": {
     "base_uri": "https://localhost:8080/",
     "height": 340
    },
    "id": "R2eCdCWBjsja",
    "outputId": "6970878a-be9b-42c7-df9b-736eb0a0c850"
   },
   "outputs": [
    {
     "name": "stdout",
     "output_type": "stream",
     "text": [
      "The input is not an integer.\n"
     ]
    },
    {
     "ename": "ValueError",
     "evalue": "ignored",
     "output_type": "error",
     "traceback": [
      "\u001b[0;31m---------------------------------------------------------------------------\u001b[0m",
      "\u001b[0;31mValueError\u001b[0m                                Traceback (most recent call last)",
      "\u001b[0;32m<ipython-input-21-355ffde8abd4>\u001b[0m in \u001b[0;36m<module>\u001b[0;34m()\u001b[0m\n\u001b[0;32m----> 1\u001b[0;31m \u001b[0mevenOddVendingMachine\u001b[0m\u001b[0;34m(\u001b[0m\u001b[0;36m1.5\u001b[0m\u001b[0;34m)\u001b[0m\u001b[0;34m\u001b[0m\u001b[0;34m\u001b[0m\u001b[0m\n\u001b[0m",
      "\u001b[0;32m<ipython-input-18-f3f06fd49962>\u001b[0m in \u001b[0;36mevenOddVendingMachine\u001b[0;34m(a)\u001b[0m\n\u001b[1;32m     13\u001b[0m   \u001b[0;32mexcept\u001b[0m\u001b[0;34m:\u001b[0m\u001b[0;34m\u001b[0m\u001b[0;34m\u001b[0m\u001b[0m\n\u001b[1;32m     14\u001b[0m     \u001b[0mprint\u001b[0m\u001b[0;34m(\u001b[0m\u001b[0;34m'The input is not an integer.'\u001b[0m\u001b[0;34m)\u001b[0m\u001b[0;34m\u001b[0m\u001b[0;34m\u001b[0m\u001b[0m\n\u001b[0;32m---> 15\u001b[0;31m   \u001b[0ma\u001b[0m \u001b[0;34m=\u001b[0m \u001b[0mint\u001b[0m\u001b[0;34m(\u001b[0m\u001b[0ma\u001b[0m\u001b[0;34m)\u001b[0m\u001b[0;34m\u001b[0m\u001b[0;34m\u001b[0m\u001b[0m\n\u001b[0m\u001b[1;32m     16\u001b[0m \u001b[0;34m\u001b[0m\u001b[0m\n\u001b[1;32m     17\u001b[0m   \u001b[0;31m#Print whether the number is even or odd\u001b[0m\u001b[0;34m\u001b[0m\u001b[0;34m\u001b[0m\u001b[0;34m\u001b[0m\u001b[0m\n",
      "\u001b[0;31mValueError\u001b[0m: invalid literal for int() with base 10: '1.5'"
     ]
    }
   ],
   "source": [
    "evenOddVendingMachine(1.5)"
   ]
  },
  {
   "cell_type": "markdown",
   "metadata": {
    "id": "PIZ2ZKN6lfQu"
   },
   "source": [
    "**Chapter 3.  Programming Challenge 2 page 89, Statistics Calculator**\n"
   ]
  },
  {
   "cell_type": "code",
   "execution_count": 30,
   "metadata": {
    "colab": {
     "base_uri": "https://localhost:8080/"
    },
    "id": "UScdwDE0lzHm",
    "outputId": "708f7a43-8185-4868-be72-fe985028c53e"
   },
   "outputs": [
    {
     "name": "stdout",
     "output_type": "stream",
     "text": [
      "The vector read from mydata.txt is:\n",
      " [20.0, 50.0, 88.0, 100.0, 120.0, 120.0, 300.0, 1000.0]\n",
      "The mean is: 224.75\n",
      "The median is: 110.0\n",
      "The mode is: 120.0\n",
      "The variance is: 91917.9375\n",
      "The standard deviation is: 303.1797115573534\n"
     ]
    }
   ],
   "source": [
    "#takes a list of numbers in the file mydata.txt\n",
    "numbers = []\n",
    "with open(\"mydata.txt\") as f:\n",
    "  for line in f:\n",
    "    numbers.append(float(line))\n",
    "\n",
    "#calculate the mean\n",
    "s = sum(numbers)\n",
    "N = len(numbers)\n",
    "mean = s/N\n",
    "\n",
    "#calculate the median\n",
    "numbers.sort()\n",
    "if N % 2 == 0:\n",
    "  m1 = N/2\n",
    "  m2 = (N/2) + 1\n",
    "  m1 = int(m1) - 1\n",
    "  m2 = int(m2) - 1\n",
    "  median = (numbers[m1] + numbers[m2])/2\n",
    "else:\n",
    "  m = (N+1)/2\n",
    "  m = int(m) - 1\n",
    "  median = numbers[m]\n",
    "\n",
    "#calculate the mode\n",
    "from collections import Counter\n",
    "c = Counter(numbers)\n",
    "modevector = c.most_common(1)\n",
    "mode = modevector[0][0]\n",
    "\n",
    "#calculate the variance\n",
    "diff = []\n",
    "for num in numbers:\n",
    "  diff.append(num-mean)\n",
    "squared_diff = []\n",
    "for d in diff:\n",
    "  squared_diff.append(d**2)\n",
    "sum_squared_diff = sum(squared_diff)\n",
    "variance = sum_squared_diff/N\n",
    "\n",
    "#calculate the standard deviation\n",
    "stdev = variance**0.5\n",
    "\n",
    "#print the results\n",
    "print(\"The vector read from mydata.txt is:\\n\",numbers)\n",
    "print(\"The mean is:\",mean)\n",
    "print(\"The median is:\",median)\n",
    "print(\"The mode is:\",mode)\n",
    "print(\"The variance is:\",variance)\n",
    "print(\"The standard deviation is:\",stdev)\n"
   ]
  },
  {
   "cell_type": "markdown",
   "metadata": {
    "id": "bm2U6c4Qlsqf"
   },
   "source": [
    "\n",
    "**Chapter 5.  Programming Challenge 2 page 143, Law of Large Numbers**\n",
    "\n"
   ]
  },
  {
   "cell_type": "code",
   "execution_count": 24,
   "metadata": {
    "colab": {
     "base_uri": "https://localhost:8080/"
    },
    "id": "kH9rNe84mGDq",
    "outputId": "8b1ff5b8-0af0-4fcc-dab9-edd4b81af68b"
   },
   "outputs": [
    {
     "name": "stdout",
     "output_type": "stream",
     "text": [
      "Expected value: 3.5\n",
      "Trials: 100 Trial average 3.28\n",
      "Trials: 1000 Trial average 3.522\n",
      "Trials: 10000 Trial average 3.5049\n",
      "Trials: 100000 Trial average 3.50451\n",
      "Trials: 500000 Trial average 3.504764\n"
     ]
    }
   ],
   "source": [
    "'''\n",
    "verify the law of large numbers, when rolling a six-sided die\n",
    "for the following number of trials: 100, 1000, 10000, 100000, 500000\n",
    "'''\n",
    "\n",
    "import random\n",
    "\n",
    "#calculate expected value of a six-sided die roll\n",
    "e = (1+2+3+4+5+6)/6\n",
    "\n",
    "addUp = 0\n",
    "for i in range(500000):\n",
    "  addUp = addUp + random.randint(1,6)\n",
    "  avgSoFar = addUp/(i+1)\n",
    "  if i == 99:\n",
    "    TAvg1 = avgSoFar\n",
    "  if i == 999:\n",
    "    TAvg2 = avgSoFar\n",
    "  if i == 9999:\n",
    "    TAvg3 = avgSoFar\n",
    "  if i == 99999:\n",
    "    TAvg4 = avgSoFar\n",
    "  if i == 499999:\n",
    "    TAvg5 = avgSoFar\n",
    "\n",
    "print(\"Expected value:\", e)\n",
    "print(\"Trials: 100 Trial average\", TAvg1)\n",
    "print(\"Trials: 1000 Trial average\", TAvg2)\n",
    "print(\"Trials: 10000 Trial average\", TAvg3)\n",
    "print(\"Trials: 100000 Trial average\", TAvg4)\n",
    "print(\"Trials: 500000 Trial average\", TAvg5)\n"
   ]
  },
  {
   "cell_type": "markdown",
   "metadata": {
    "id": "GNbq6o_tludO"
   },
   "source": [
    "**Chapter 7.  Programming Challenge 2 page 205, Implement the Gradient Descent**"
   ]
  },
  {
   "cell_type": "code",
   "execution_count": 26,
   "metadata": {
    "colab": {
     "base_uri": "https://localhost:8080/",
     "height": 352
    },
    "id": "lAVExAzIhAxX",
    "outputId": "9ec10af2-45bc-4300-d3fa-3a73d9f25542"
   },
   "outputs": [
    {
     "name": "stdout",
     "output_type": "stream",
     "text": [
      "Enter a function in one variable: x**2\n",
      "Enter the variable to differentiate with respect to: x\n",
      "Enter the initial value of the variable: 1\n",
      "x: 0.00377789318629572\n",
      "Minimum value: 0.0000142724769270596\n"
     ]
    },
    {
     "data": {
      "image/png": "[encoded data removed]",
      "text/plain": [
       "<Figure size 432x288 with 1 Axes>"
      ]
     },
     "metadata": {
      "needs_background": "light"
     },
     "output_type": "display_data"
    }
   ],
   "source": [
    "'''\n",
    "Use gradient descent to find the minimum value of a single-variable function\n",
    "'''\n",
    "\n",
    "import math\n",
    "from sympy import Derivative, Symbol, sympify, solve\n",
    "import matplotlib.pyplot as plt\n",
    "\n",
    "def grad_descent(x0, f1x, x):\n",
    "  #check if f1x=0 has a solution\n",
    "  if not solve(f1x):\n",
    "    print('Cannot continue, solution for {0}=0 does not exist'.format(f1x))\n",
    "    return None\n",
    "  epsilon = 1e-3\n",
    "  step_size = 1e-1\n",
    "  x_old = x0\n",
    "  x_new = x_old - step_size*f1x.subs({x:x_old}).evalf()\n",
    "  \n",
    "  #list to store the X values traversed\n",
    "  X_traversed = []\n",
    "  while abs(x_old - x_new) > epsilon:\n",
    "    X_traversed.append(x_new)\n",
    "    x_old = x_new\n",
    "    x_new = x_old - step_size*f1x.subs({x:x_old}).evalf()\n",
    "  \n",
    "  return x_new, X_traversed\n",
    "\n",
    "def frange(start, final, interval):\n",
    "  numbers = []\n",
    "  while start < final:\n",
    "    numbers.append(start)\n",
    "    start = start + interval\n",
    "\n",
    "  return numbers\n",
    "\n",
    "def create_plot(X_traversed, f, var):\n",
    "  #first create the graph of the function itself\n",
    "  x_val = frange(-1, 1, 0.01)\n",
    "  f_val = [f.subs({var:x}) for x in x_val]\n",
    "  plt.plot(x_val, f_val, 'bo')\n",
    "  #calculate the function value at each of the intermediate\n",
    "  #points traversed\n",
    "  f_traversed = [f.subs({var:x}) for x in X_traversed]\n",
    "  plt.plot(X_traversed, f_traversed, 'r.')\n",
    "  plt.legend(['Function', 'Intermediate points'], loc='best')\n",
    "  plt.show()\n",
    "\n",
    "if __name__ == '__main__':\n",
    "\n",
    "  f = input('Enter a function in one variable: ')\n",
    "  var = input('Enter the variable to differentiate with respect to: ')\n",
    "  var0 = float(input('Enter the initial value of the variable: '))\n",
    "  try:\n",
    "    f = sympify(f)\n",
    "  except SympifyError:\n",
    "    print('Invalid function entered')\n",
    "  else:\n",
    "    var = Symbol(var)\n",
    "    d = Derivative(f, var).doit()\n",
    "    var_min, X_traversed = grad_descent(var0, d, var)\n",
    "    if var_min:\n",
    "      print('{0}: {1}'.format(var.name, var_min))\n",
    "      print('Minimum value: {0}'.format(f.subs({var:var_min})))\n",
    "      create_plot(X_traversed, f, var)\n"
   ]
  }
 ],
 "metadata": {
  "colab": {
   "name": "MathBridgeWK1HW1.ipynb",
   "provenance": []
  },
  "kernelspec": {
   "display_name": "Python 3",
   "language": "python",
   "name": "python3"
  },
  "language_info": {
   "codemirror_mode": {
    "name": "ipython",
    "version": 3
   },
   "file_extension": ".py",
   "mimetype": "text/x-python",
   "name": "python",
   "nbconvert_exporter": "python",
   "pygments_lexer": "ipython3",
   "version": "3.7.6"
  }
 },
 "nbformat": 4,
 "nbformat_minor": 1
}
