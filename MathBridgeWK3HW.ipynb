{
 "cells": [
  {
   "cell_type": "code",
   "execution_count": 95,
   "metadata": {
    "id": "q68061F4y5Sa"
   },
   "outputs": [],
   "source": [
    "#all my imports\n",
    "from scipy.stats import norm\n",
    "from scipy.stats import t\n",
    "import math\n",
    "import numpy as np\n"
   ]
  },
  {
   "cell_type": "markdown",
   "metadata": {
    "id": "jfygX8KndNnV"
   },
   "source": [
    "1. \tThe weights of steers in a herd are distributed normally.  The variance is 40,000 and the mean steer weight is 1300 lbs.  Find the probability that the weight of a randomly selected steer is greater than 979 lbs. (Round your answer to 4 decimal places)"
   ]
  },
  {
   "cell_type": "code",
   "execution_count": 96,
   "metadata": {
    "colab": {
     "base_uri": "https://localhost:8080/"
    },
    "id": "WqY8B6TCdUnn",
    "outputId": "bc48222b-3592-45c0-cd3a-d3f9022700e4"
   },
   "outputs": [
    {
     "data": {
      "text/plain": [
       "0.9458"
      ]
     },
     "execution_count": 96,
     "metadata": {},
     "output_type": "execute_result"
    }
   ],
   "source": [
    "#The cumulative distribution tells you the probability of having less a value less\n",
    "#than x where the mean is the location and the standard deviation is the scale.\n",
    "result = 1 - norm.cdf(979, loc=1300, scale=math.sqrt(40000))\n",
    "round(result, 4)"
   ]
  },
  {
   "cell_type": "markdown",
   "metadata": {
    "id": "XsPNT8TrdZNg"
   },
   "source": [
    "2. \tSVGA monitors manufactured by TSI Electronics have life spans that have a normal distribution with a variance of 1,960,000 and a mean life span of 11,000 hours.  If a SVGA monitor is selected at random, find the probability that the life span of the monitor will be more than 8340 hours. (Round your answer to 4 decimal places)"
   ]
  },
  {
   "cell_type": "code",
   "execution_count": 97,
   "metadata": {
    "colab": {
     "base_uri": "https://localhost:8080/"
    },
    "id": "uZQJv7qszeLp",
    "outputId": "3f812ac7-9929-43a9-875d-2da2bb67765a"
   },
   "outputs": [
    {
     "data": {
      "text/plain": [
       "0.9713"
      ]
     },
     "execution_count": 97,
     "metadata": {},
     "output_type": "execute_result"
    }
   ],
   "source": [
    "result = 1 - norm.cdf(8340, loc=11000, scale=math.sqrt(1960000))\n",
    "round(result, 4)"
   ]
  },
  {
   "cell_type": "markdown",
   "metadata": {
    "id": "whGk5S0PddqB"
   },
   "source": [
    "3. \tSuppose the mean income of firms in the industry for a year is 80 million dollars with a standard deviation of 3 million dollars.  If incomes for the industry are distributed normally, what is the probability that a randomly selected firm will earn between 83 and 85 million dollars? (Round your answer to 4 decimal places)"
   ]
  },
  {
   "cell_type": "code",
   "execution_count": 98,
   "metadata": {
    "colab": {
     "base_uri": "https://localhost:8080/"
    },
    "id": "06DuTpBM1ika",
    "outputId": "2013d376-4a91-4506-f96d-56b21ac74d03"
   },
   "outputs": [
    {
     "data": {
      "text/plain": [
       "0.1109"
      ]
     },
     "execution_count": 98,
     "metadata": {},
     "output_type": "execute_result"
    }
   ],
   "source": [
    "result = norm.cdf(85, loc=80, scale=3) - norm.cdf(83, loc=80, scale=3)\n",
    "round(result, 4)"
   ]
  },
  {
   "cell_type": "markdown",
   "metadata": {
    "id": "I-_FHEO3dopW"
   },
   "source": [
    "4. \tSuppose GRE Verbal scores are normally distributed with a mean of 456 and a standard deviation of 123.  A university plans to offer tutoring jobs to students whose scores are in the top 14%.  What is the minimum score required for the job offer?  Round your answer to the nearest whole number, if necessary."
   ]
  },
  {
   "cell_type": "code",
   "execution_count": 99,
   "metadata": {
    "colab": {
     "base_uri": "https://localhost:8080/"
    },
    "id": "404L0pdi2d11",
    "outputId": "2d1f4426-9104-4fc1-c025-e4d5c0ca454d"
   },
   "outputs": [
    {
     "data": {
      "text/plain": [
       "589"
      ]
     },
     "execution_count": 99,
     "metadata": {},
     "output_type": "execute_result"
    }
   ],
   "source": [
    "#whittling down to the answer with result 13.9963\n",
    "1-norm.cdf(588.9, loc=456, scale=123)\n",
    "\n",
    "#using inverse of cdf\n",
    "result = norm.ppf(.86, loc=456, scale=123)\n",
    "int(round(result, 0))"
   ]
  },
  {
   "cell_type": "markdown",
   "metadata": {
    "id": "dIfVnLY7dtUr"
   },
   "source": [
    "5. \tThe lengths of nails produced in a factory are normally distributed with a mean of 6.13 centimeters and a standard deviation of 0.06 centimeters.  Find the two lengths that separate the top 7% and the bottom 7%.  These lengths could serve as limits used to identify which nails should be rejected.  Round your answer to the nearest hundredth, if necessary."
   ]
  },
  {
   "cell_type": "code",
   "execution_count": 100,
   "metadata": {
    "colab": {
     "base_uri": "https://localhost:8080/"
    },
    "id": "TyS-XzW28gTc",
    "outputId": "f292cc76-583d-41c0-b406-3ab52065d038"
   },
   "outputs": [
    {
     "name": "stdout",
     "output_type": "stream",
     "text": [
      "Reject nails that are less than 6.04 cm or longer than 6.22 cm.\n"
     ]
    }
   ],
   "source": [
    "bottom = norm.ppf(.07, loc=6.13, scale=0.06)\n",
    "top = norm.ppf(.93, loc=6.13, scale=0.06)\n",
    "print('Reject nails that are less than {:.2f} cm or longer than {:.2f} cm.'.format(bottom, top))"
   ]
  },
  {
   "cell_type": "markdown",
   "metadata": {
    "id": "l_vKyXYXdxSf"
   },
   "source": [
    "6. \tAn English professor assigns letter grades on a test according to the following scheme.\n",
    "\tA:  Top 13% of scores\n",
    "\tB:  Scores below the top 13% and above the bottom 55%\n",
    "\tC:  Scores below the top 45% and above the bottom 20%\n",
    "\tD:  Scores below the top 80% and above the bottom 9%\n",
    "\tF:  Bottom 9% of scores\n",
    "\tScores on the test are normally distributed with a mean of 78.8 and a standard deviation of 9.8.  Find the numerical limits for a C grade.  Round your answers to the nearest whole number, if necessary."
   ]
  },
  {
   "cell_type": "code",
   "execution_count": 101,
   "metadata": {
    "colab": {
     "base_uri": "https://localhost:8080/"
    },
    "id": "spSkZCTW-MUO",
    "outputId": "3079963f-d2dd-47b3-b5d9-30a1e23a590b"
   },
   "outputs": [
    {
     "name": "stdout",
     "output_type": "stream",
     "text": [
      "A C grade is awarded for scores between 71 and 79 inclusive.\n"
     ]
    }
   ],
   "source": [
    "top = int(round(norm.ppf(.55, loc=78.8, scale=9.8),0)-1)\n",
    "bottom = int(round(norm.ppf(.2, loc=78.8, scale=9.8),0))\n",
    "print('A C grade is awarded for scores between {} and {} inclusive.'.format(bottom, top))"
   ]
  },
  {
   "cell_type": "markdown",
   "metadata": {
    "id": "o13k_vAOfGvj"
   },
   "source": [
    "7. \tSuppose ACT Composite scores are normally distributed with a mean of 21.2 and a standard deviation of 5.4.  A university plans to admit students whose scores are in the top 45%.  What is the minimum score required for admission?  Round your answer to the nearest tenth, if necessary."
   ]
  },
  {
   "cell_type": "code",
   "execution_count": 102,
   "metadata": {
    "colab": {
     "base_uri": "https://localhost:8080/"
    },
    "id": "hGb-3gMpAyJs",
    "outputId": "a9d3d93a-0f8c-43f6-d9a9-195d51658bca"
   },
   "outputs": [
    {
     "name": "stdout",
     "output_type": "stream",
     "text": [
      "The minimum score required for admission is 21.9.\n"
     ]
    }
   ],
   "source": [
    "bottom = round(norm.ppf(.55, loc=21.2, scale=5.4),1)\n",
    "print('The minimum score required for admission is {}.'.format(bottom))"
   ]
  },
  {
   "cell_type": "markdown",
   "metadata": {
    "id": "p2b9KKbjfHUg"
   },
   "source": [
    "8. \tConsider the probability that less than 11 out of 151 students will not graduate on time.  Assume the probability that a given student will not graduate on time is 9%.  Approximate the probability using the normal distribution. (Round your answer to 4 decimal places.)"
   ]
  },
  {
   "cell_type": "code",
   "execution_count": 103,
   "metadata": {
    "colab": {
     "base_uri": "https://localhost:8080/"
    },
    "id": "cIlDw89QDpQk",
    "outputId": "72d15e0e-5261-4211-b48a-62ff9bf8186e"
   },
   "outputs": [
    {
     "name": "stdout",
     "output_type": "stream",
     "text": [
      "If n*p and p*q both larger than 5 then we can use the normal approximation: True\n",
      "The probability that fewer than 11 will not graduate on time is 0.2307.\n"
     ]
    }
   ],
   "source": [
    "n = 151\n",
    "p = .09\n",
    "q = 1-p\n",
    "mean = n*p\n",
    "stdev = math.sqrt(n*p*q)\n",
    "result1 = (mean > 5) and (n*q > 5)\n",
    "print('If n*p and p*q both larger than 5 then we can use the normal approximation:',result1)\n",
    "result2 = norm.cdf(11, loc=mean, scale=stdev) \n",
    "print('The probability that fewer than 11 will not graduate on time is {:.4f}.'.format(result2))"
   ]
  },
  {
   "cell_type": "markdown",
   "metadata": {
    "id": "ntIyE-ySfH3w"
   },
   "source": [
    "9. \tThe mean lifetime of a tire is 48 months with a standard deviation of 7.  If 147 tires are sampled, what is the probability that the mean of the sample would be greater than 48.83 months? (Round your answer to 4 decimal places)"
   ]
  },
  {
   "cell_type": "code",
   "execution_count": 104,
   "metadata": {
    "colab": {
     "base_uri": "https://localhost:8080/"
    },
    "id": "84OTzLSUCNg2",
    "outputId": "3ee15f57-5bb4-47c7-d1ad-2ee0d4d7127d"
   },
   "outputs": [
    {
     "name": "stdout",
     "output_type": "stream",
     "text": [
      "The probability that the mean of the sample would be greater than 48.83 months is 0.0753.\n"
     ]
    }
   ],
   "source": [
    "result = 1 - norm.cdf(48.83, loc=48, scale=7/math.sqrt(147))\n",
    "print('The probability that the mean of the sample would be greater than 48.83 months is {:.4f}.'.format(result))"
   ]
  },
  {
   "cell_type": "markdown",
   "metadata": {
    "id": "0LqLdlnofIQ0"
   },
   "source": [
    "10. \tThe quality control manager at a computer manufacturing company believes that the mean life of a computer is 91 months, with a standard deviation of 10.  If he is correct, what is the probability that the mean of a sample of 68 computers would be greater than 93.54 months? (Round your answer to 4 decimal places)"
   ]
  },
  {
   "cell_type": "code",
   "execution_count": 105,
   "metadata": {
    "colab": {
     "base_uri": "https://localhost:8080/"
    },
    "id": "18DxSpckKoUX",
    "outputId": "d35bcd9c-ca5c-41e3-a427-a4051e1d5abf"
   },
   "outputs": [
    {
     "name": "stdout",
     "output_type": "stream",
     "text": [
      "The probability that the mean of the sample would be greater than 93.54 months is 0.0181.\n"
     ]
    }
   ],
   "source": [
    "result = 1 - norm.cdf(93.54, loc=91, scale=10/math.sqrt(68))\n",
    "print('The probability that the mean of the sample would be greater than 93.54 months is {:.4f}.'.format(result))"
   ]
  },
  {
   "cell_type": "markdown",
   "metadata": {
    "id": "vKqdpMV8fIsA"
   },
   "source": [
    "11. \tA director of reservations believes that 7% of the ticketed passengers are no-shows.  If the director is right, what is the probability that the proportion of no-shows in a sample of 540 ticketed passengers would differ from the population proportion by less than 3%? (Round your answer to 4 decimal places)"
   ]
  },
  {
   "cell_type": "code",
   "execution_count": 106,
   "metadata": {
    "colab": {
     "base_uri": "https://localhost:8080/"
    },
    "id": "jvYwtXv6PpC5",
    "outputId": "24fbfde7-712b-4b33-95e3-69ff422d4534"
   },
   "outputs": [
    {
     "name": "stdout",
     "output_type": "stream",
     "text": [
      "The probability of more than 4% of 540 passengers no-showing is 0.9969.\n"
     ]
    }
   ],
   "source": [
    "n = 540\n",
    "p = .07\n",
    "q = 1-p\n",
    "#mean = 37.8 no-shows\n",
    "mean = n*p\n",
    "#worstcase = 21.6 no-shows\n",
    "worstcase = n*(p - .03)\n",
    "stdev = math.sqrt(n*p*q)\n",
    "result = 1 - norm.cdf(worstcase, loc=mean, scale=stdev)\n",
    "print('The probability of more than 4% of 540 passengers no-showing is {:.4f}.'.format(result))"
   ]
  },
  {
   "cell_type": "markdown",
   "metadata": {
    "id": "-i_0_tIwfcAb"
   },
   "source": [
    "12. \tA bottle maker believes that 23% of his bottles are defective.  If the bottle maker is accurate, what is the probability that the proportion of defective bottles in a sample of 602 bottles would differ from the population proportion by greater than 4%? (Round your answer to 4 decimal places)"
   ]
  },
  {
   "cell_type": "code",
   "execution_count": 107,
   "metadata": {
    "colab": {
     "base_uri": "https://localhost:8080/"
    },
    "id": "u9yPPVvXYFMX",
    "outputId": "5e35f507-d4d1-4b57-a32b-f7ed48ac0304"
   },
   "outputs": [
    {
     "name": "stdout",
     "output_type": "stream",
     "text": [
      "The probability of more than 27% of 602 bottles being defective is 0.0098.\n"
     ]
    }
   ],
   "source": [
    "n = 602\n",
    "p = .23\n",
    "q = 1-p\n",
    "#mean = 138.46 defective bottles\n",
    "mean = n*p\n",
    "#worstcase = 162.54 defective bottles\n",
    "worstcase = n*(p + .04)\n",
    "stdev = math.sqrt(n*p*q)\n",
    "result = 1 - norm.cdf(worstcase, loc=mean, scale=stdev)\n",
    "print('The probability of more than 27% of 602 bottles being defective is {:.4f}.'.format(result))"
   ]
  },
  {
   "cell_type": "markdown",
   "metadata": {
    "id": "umh_VQ5PfbZp"
   },
   "source": [
    "13. \tA research company desires to know the mean consumption of beef per week among males over age 48.  Suppose a sample of size 208 is drawn with xbar = 3.9.  Assume r = 0.8.  Construct the 80% confidence interval for the mean number of lb. of beef per week among males over 48. (Round your answers to 1 decimal place) \n",
    "\n",
    "\n",
    "Upper Bound:  \n",
    "Lower Bound:"
   ]
  },
  {
   "cell_type": "code",
   "execution_count": 108,
   "metadata": {
    "colab": {
     "base_uri": "https://localhost:8080/"
    },
    "id": "78wt0FLnaWhH",
    "outputId": "d5f40a6d-c241-4b03-ab84-d9353dd35744"
   },
   "outputs": [
    {
     "name": "stdout",
     "output_type": "stream",
     "text": [
      "With 80% confidence the mean consumption of beef is between 2.9 and 4.9.\n"
     ]
    }
   ],
   "source": [
    "n = 208\n",
    "mean = 3.9\n",
    "stdev = 0.8\n",
    "lowerbound = norm.ppf(.1, loc=mean, scale=stdev)\n",
    "upperbound = norm.ppf(.9, loc=mean, scale=stdev)\n",
    "print('With 80% confidence the mean consumption of beef is between {:.1f} and {:.1f}.'.format(lowerbound, upperbound))"
   ]
  },
  {
   "cell_type": "markdown",
   "metadata": {
    "id": "DvXTNeCygaBe"
   },
   "source": [
    "14. \tAn economist wants to estimate the mean per capita income (in thousands of dollars) in a major city in California.  Suppose a sample of size 7472 is drawn with xbar = 16.6.  Assume r = 11.  Construct the 98% confidence interval for the mean per capita income. (Round your answers to 1 decimal place) \n",
    "\n",
    "Upper Bound:  \n",
    "Lower Bound:"
   ]
  },
  {
   "cell_type": "code",
   "execution_count": 109,
   "metadata": {
    "colab": {
     "base_uri": "https://localhost:8080/"
    },
    "id": "meWMxV24dRWG",
    "outputId": "4bfe184e-e60c-43b7-c3f1-e2956b4c35ff"
   },
   "outputs": [
    {
     "name": "stdout",
     "output_type": "stream",
     "text": [
      "With 98% confidence the mean per capita income is between -9.0 and 42.2.\n"
     ]
    }
   ],
   "source": [
    "#maybe the data should have been logged so we can't get a negative lower bound?\n",
    "n = 7472\n",
    "mean = 16.6\n",
    "stdev = 11\n",
    "lowerbound = norm.ppf(.01, loc=mean, scale=stdev)\n",
    "upperbound = norm.ppf(.99, loc=mean, scale=stdev)\n",
    "print('With 98% confidence the mean per capita income is between {:.1f} and {:.1f}.'.format(lowerbound, upperbound))"
   ]
  },
  {
   "cell_type": "markdown",
   "metadata": {
    "id": "iaqj1q_mg8PR"
   },
   "source": [
    "15. \tFind the value of t such that 0.05 of the area under the curve is to the left of t.  Assume the degrees of freedom equals 26.\n",
    "\n",
    "Step 1. Choose the picture which best describes the problem.\n",
    "\n",
    "Step 2. Write your answer below. "
   ]
  },
  {
   "cell_type": "code",
   "execution_count": 110,
   "metadata": {
    "colab": {
     "base_uri": "https://localhost:8080/"
    },
    "id": "qOuIKDNoye7a",
    "outputId": "9d56a58c-6aaa-4384-97fd-506dfde3b118"
   },
   "outputs": [
    {
     "data": {
      "text/plain": [
       "-1.703"
      ]
     },
     "execution_count": 110,
     "metadata": {},
     "output_type": "execute_result"
    }
   ],
   "source": [
    "#The upper right picture with t between minus 2 and 1 stds from the mean\n",
    "#and it's shaded green in the left tail\n",
    "z = round(norm.ppf(.05),3)\n",
    "z\n",
    "#the above didn't take into consideration defrees of freedom so switched to t score\n",
    "tscore = round(t.ppf(.05, 27),3)\n",
    "tscore"
   ]
  },
  {
   "cell_type": "markdown",
   "metadata": {
    "id": "gI2B8uz2hr8R"
   },
   "source": [
    "16. \tThe following measurements ( in picocuries per liter ) were recorded by a set of helium gas detectors installed in a laboratory facility:  \n",
    "                      383.6, 347.1, 371.9, 347.6, 325.8, 337\n",
    "\tUsing these measurements, construct a 90% confidence interval for the mean level of helium gas present in the facility.  Assume the population is normally distributed.  \n",
    "\n",
    "Step 1. Calculate the sample mean for the given sample data. (Round answer to 2 decimal places) "
   ]
  },
  {
   "cell_type": "code",
   "execution_count": 111,
   "metadata": {
    "colab": {
     "base_uri": "https://localhost:8080/"
    },
    "id": "iv3u7bYixt6r",
    "outputId": "55c3c757-9c84-4de2-b181-312eef6a36a9"
   },
   "outputs": [
    {
     "data": {
      "text/plain": [
       "352.17"
      ]
     },
     "execution_count": 111,
     "metadata": {},
     "output_type": "execute_result"
    }
   ],
   "source": [
    "x = (383.6, 347.1, 371.9, 347.6, 325.8, 337)\n",
    "n = len(x)\n",
    "mean = round(np.mean(x),2)\n",
    "mean"
   ]
  },
  {
   "cell_type": "markdown",
   "metadata": {
    "id": "-djNnNdXzYps"
   },
   "source": [
    "Step 2. Calculate the sample standard deviation for the given sample data. (Round answer to 2 decimal places) "
   ]
  },
  {
   "cell_type": "code",
   "execution_count": 112,
   "metadata": {
    "colab": {
     "base_uri": "https://localhost:8080/"
    },
    "id": "slIcYN2QzsGp",
    "outputId": "9785951d-38bc-4ebb-aeb7-54d064d23a5d"
   },
   "outputs": [
    {
     "data": {
      "text/plain": [
       "19.79"
      ]
     },
     "execution_count": 112,
     "metadata": {},
     "output_type": "execute_result"
    }
   ],
   "source": [
    "stdev = round(np.std(x),2)\n",
    "stdev"
   ]
  },
  {
   "cell_type": "markdown",
   "metadata": {
    "id": "V2ruAYCrzfNV"
   },
   "source": [
    "Step 3. Find the critical value that should be used in constructing the confidence interval. (Round answer to 3 decimal places) "
   ]
  },
  {
   "cell_type": "code",
   "execution_count": 113,
   "metadata": {
    "colab": {
     "base_uri": "https://localhost:8080/"
    },
    "id": "aIJIhXV01zBH",
    "outputId": "4540febd-0a95-4bdf-e9bf-2ebafa936aaf"
   },
   "outputs": [
    {
     "data": {
      "text/plain": [
       "1.943"
      ]
     },
     "execution_count": 113,
     "metadata": {},
     "output_type": "execute_result"
    }
   ],
   "source": [
    "tscore = round(t.ppf(1-.05, n),3)\n",
    "tscore"
   ]
  },
  {
   "cell_type": "markdown",
   "metadata": {
    "id": "229WvOpxzfgl"
   },
   "source": [
    "Step 4. Construct the 90% confidence interval. (Round answer to 2 decimal places)  \n",
    "Upper Bound:  \n",
    "Lower Bound:"
   ]
  },
  {
   "cell_type": "code",
   "execution_count": 114,
   "metadata": {
    "colab": {
     "base_uri": "https://localhost:8080/"
    },
    "id": "E440DHPu2B1D",
    "outputId": "ee485893-3793-4572-d515-dc6191f89446"
   },
   "outputs": [
    {
     "name": "stdout",
     "output_type": "stream",
     "text": [
      "With 90% confidence the mean is between 313.7 and 390.6.\n"
     ]
    }
   ],
   "source": [
    "upperbound = mean + tscore*stdev\n",
    "lowerbound = mean - tscore*stdev\n",
    "print('With 90% confidence the mean is between {:.1f} and {:.1f}.'.format(lowerbound, upperbound))"
   ]
  },
  {
   "cell_type": "markdown",
   "metadata": {
    "id": "Qjrbso_niIU7"
   },
   "source": [
    "\n",
    "17. \tA random sample of 16 fields of spring wheat has a mean yield of 46.4 bushels per acre and standard deviation of 2.45 bushels per acre.  Determine the 80% confidence interval for the true mean yield.  Assume the population is normally distributed.  \n",
    "\n",
    "Step 1. Find the critical value that should be used in constructing the confidence interval. (Round answer to 3 decimal places) "
   ]
  },
  {
   "cell_type": "code",
   "execution_count": 115,
   "metadata": {
    "colab": {
     "base_uri": "https://localhost:8080/"
    },
    "id": "cbfOPH1J7BP2",
    "outputId": "55ad2cb0-57d3-4deb-b01d-ae1a16399498"
   },
   "outputs": [
    {
     "data": {
      "text/plain": [
       "1.337"
      ]
     },
     "execution_count": 115,
     "metadata": {},
     "output_type": "execute_result"
    }
   ],
   "source": [
    "n = 16\n",
    "mean = 46.4\n",
    "stdev = 2.45\n",
    "tscore = round(t.ppf(1-.1, n),3)\n",
    "tscore"
   ]
  },
  {
   "cell_type": "markdown",
   "metadata": {
    "id": "qoYpWgTe69Vx"
   },
   "source": [
    "Step 2. Construct the 80% confidence interval. (Round answer to 1 decimal place)  \n",
    "Upper Bound:  \n",
    "Lower Bound:"
   ]
  },
  {
   "cell_type": "code",
   "execution_count": 116,
   "metadata": {
    "colab": {
     "base_uri": "https://localhost:8080/"
    },
    "id": "8YaXX06q7bTO",
    "outputId": "224f6185-fa00-4110-b2bf-2a5e173f50cb"
   },
   "outputs": [
    {
     "name": "stdout",
     "output_type": "stream",
     "text": [
      "With 80% confidence the mean is between 43.1 and 49.7.\n"
     ]
    }
   ],
   "source": [
    "upperbound = mean + tscore*stdev\n",
    "lowerbound = mean - tscore*stdev\n",
    "print('With 80% confidence the mean is between {:.1f} and {:.1f}.'.format(lowerbound, upperbound))"
   ]
  },
  {
   "cell_type": "markdown",
   "metadata": {
    "id": "ZOneaymPiSR0"
   },
   "source": [
    "18. \tA toy manufacturer wants to know how many new toys children buy each year.  She thinks the mean is 8 toys per year.  Assume a previous study found the standard deviation to be 1.9.  How large of a sample would be required in order to estimate the mean number of toys bought per child at the 99% confidence level with an error of at most 0.13 toys? (Round your answer up to the next integer)"
   ]
  },
  {
   "cell_type": "code",
   "execution_count": 117,
   "metadata": {
    "colab": {
     "base_uri": "https://localhost:8080/"
    },
    "id": "jrUhnyBl9sKA",
    "outputId": "fe78f1c4-1936-405b-e9aa-1af883b787dd"
   },
   "outputs": [
    {
     "data": {
      "text/plain": [
       "1418"
      ]
     },
     "execution_count": 117,
     "metadata": {},
     "output_type": "execute_result"
    }
   ],
   "source": [
    "#Proposed solution\n",
    "stdev = 1.9\n",
    "z = round(norm.ppf(1-.005),3)\n",
    "moe = .13\n",
    "n = math.ceil((z*stdev/moe) ** 2)\n",
    "n"
   ]
  },
  {
   "cell_type": "code",
   "execution_count": 118,
   "metadata": {
    "colab": {
     "base_uri": "https://localhost:8080/"
    },
    "id": "EMqVyQxC7yGO",
    "outputId": "759e93e2-8b74-48f5-fa90-3891928c9204"
   },
   "outputs": [
    {
     "data": {
      "text/plain": [
       "0.1292"
      ]
     },
     "execution_count": 118,
     "metadata": {},
     "output_type": "execute_result"
    }
   ],
   "source": [
    "#why did picking a sample size such that the std*(t-z) was just less than the moe not work?\n",
    "#vary n until result is just under 0.13 (n = 100, 90, 80, 70, 75, 74, 73, 74)\n",
    "n = 74\n",
    "mean = 8\n",
    "stdev = 1.9\n",
    "tscore = round(t.ppf(1-.005, n),3)\n",
    "z = round(norm.ppf(1-.005),3)\n",
    "round(stdev*(tscore - z),4)"
   ]
  },
  {
   "cell_type": "markdown",
   "metadata": {
    "id": "hckTMHCjiYx_"
   },
   "source": [
    "19. \tA research scientist wants to know how many times per hour a certain strand of bacteria reproduces.  He believes that the mean is 12.6.  Assume the variance is known to be 3.61.  How large of a sample would be required in order to estimate the mean number of reproductions per hour at the 95% confidence level with an error of at most 0.19 reproductions? (Round your answer up to the next integer)"
   ]
  },
  {
   "cell_type": "code",
   "execution_count": 119,
   "metadata": {
    "colab": {
     "base_uri": "https://localhost:8080/"
    },
    "id": "xFN3WQsp-kuB",
    "outputId": "c1315537-b357-40b6-c3e0-dd8db72d5473"
   },
   "outputs": [
    {
     "data": {
      "text/plain": [
       "385"
      ]
     },
     "execution_count": 119,
     "metadata": {},
     "output_type": "execute_result"
    }
   ],
   "source": [
    "stdev = math.sqrt(3.61)\n",
    "z = round(norm.ppf(1-.025),3)\n",
    "moe = 0.19\n",
    "n = math.ceil((z*stdev/moe) ** 2)\n",
    "n"
   ]
  },
  {
   "cell_type": "markdown",
   "metadata": {
    "id": "MnEnTYm2idvc"
   },
   "source": [
    "20. \tThe state education commission wants to estimate the fraction of tenth grade students that have reading skills at or below the eighth grade level.\n",
    "\n",
    "Step 1. Suppose a sample of 2089 tenth graders is drawn. Of the students sampled, 1734 read above the eighth grade level.  Using the data, estimate the proportion of tenth graders reading at or below the eighth grade level. (Write your answer as a fraction or a decimal number rounded to 3 decimal places) "
   ]
  },
  {
   "cell_type": "code",
   "execution_count": 120,
   "metadata": {
    "colab": {
     "base_uri": "https://localhost:8080/"
    },
    "id": "ZCgG9UxKE519",
    "outputId": "c93ce3bf-8336-48ba-f53b-5e75c258867c"
   },
   "outputs": [
    {
     "data": {
      "text/plain": [
       "0.83"
      ]
     },
     "execution_count": 120,
     "metadata": {},
     "output_type": "execute_result"
    }
   ],
   "source": [
    "n = 2089\n",
    "p = round(1734/n,3)\n",
    "p"
   ]
  },
  {
   "cell_type": "markdown",
   "metadata": {
    "id": "_4N5WEd_E5T3"
   },
   "source": [
    "Step 2. Suppose a sample of 2089 tenth graders is drawn.  Of the students sampled, 1734 read above the eighth grade level.  Using the data, construct the 98% confidence interval for the population proportion of tenth graders reading at or below the eighth grade level. (Round your answers to 3 decimal places)  \n",
    "Upper Bound:  \n",
    "Lower Bound:"
   ]
  },
  {
   "cell_type": "code",
   "execution_count": 121,
   "metadata": {
    "colab": {
     "base_uri": "https://localhost:8080/"
    },
    "id": "Qysx1XgQE45F",
    "outputId": "4195c7e4-b1aa-4db2-8345-5da37997fb79"
   },
   "outputs": [
    {
     "name": "stdout",
     "output_type": "stream",
     "text": [
      "With 98% confidence the proportion is between 0.811 and 0.849.\n"
     ]
    }
   ],
   "source": [
    "x = 1734\n",
    "n = 2089\n",
    "p = x/n\n",
    "sem = math.sqrt(x*(n-x)/(n ** 3))\n",
    "z = norm.ppf(1-.01)\n",
    "upperbound = p + z*sem\n",
    "lowerbound = p - z*sem\n",
    "print('With 98% confidence the proportion is between {:.3f} and {:.3f}.'.format(lowerbound, upperbound))"
   ]
  },
  {
   "cell_type": "markdown",
   "metadata": {
    "id": "RgXRutvkdE4o"
   },
   "source": [
    "21. \tAn environmentalist wants to find out the fraction of oil tankers that have spills each month.\n",
    "\n",
    "Step 1. Suppose a sample of 474 tankers is drawn.  Of these ships, 156 had spills.  Using the data, estimate the proportion of oil tankers that had spills. (Write your answer as a fraction or a decimal number rounded to 3 decimal places)"
   ]
  },
  {
   "cell_type": "code",
   "execution_count": 122,
   "metadata": {
    "colab": {
     "base_uri": "https://localhost:8080/"
    },
    "id": "KLik8XCLOJE1",
    "outputId": "c06e2d2f-a27f-4bc2-8bb5-3341817fe7de"
   },
   "outputs": [
    {
     "data": {
      "text/plain": [
       "0.329"
      ]
     },
     "execution_count": 122,
     "metadata": {},
     "output_type": "execute_result"
    }
   ],
   "source": [
    "x = 156\n",
    "n = 474\n",
    "p = round(x/n,3)\n",
    "p"
   ]
  },
  {
   "cell_type": "markdown",
   "metadata": {
    "id": "twzkY-BtOd7n"
   },
   "source": [
    "Step 2. Suppose a sample of 474 tankers is drawn.  Of these ships, 156 had spills.  Using the data, construct the 95% confidence interval for the population proportion of oil tankers that have spills each month. (Round your answers to 3 decimal places)  \n",
    "Upper Bound:  \n",
    "Lower Bound:"
   ]
  },
  {
   "cell_type": "code",
   "execution_count": 123,
   "metadata": {
    "colab": {
     "base_uri": "https://localhost:8080/"
    },
    "id": "ZzxcwtZaOeVE",
    "outputId": "56c6c535-3c9e-4bad-c3fd-b12f421fb924"
   },
   "outputs": [
    {
     "name": "stdout",
     "output_type": "stream",
     "text": [
      "With 95% confidence the proportion is between 0.287 and 0.371.\n"
     ]
    }
   ],
   "source": [
    "x = 156\n",
    "n = 474\n",
    "p = x/n\n",
    "sem = math.sqrt(x*(n-x)/(n ** 3))\n",
    "z = norm.ppf(1-.025)\n",
    "upperbound = p + z*sem\n",
    "lowerbound = p - z*sem\n",
    "print('With 95% confidence the proportion is between {:.3f} and {:.3f}.'.format(lowerbound, upperbound))"
   ]
  }
 ],
 "metadata": {
  "colab": {
   "name": "MathBridgeWK3HW.ipynb",
   "provenance": []
  },
  "kernelspec": {
   "display_name": "Python 3",
   "language": "python",
   "name": "python3"
  },
  "language_info": {
   "codemirror_mode": {
    "name": "ipython",
    "version": 3
   },
   "file_extension": ".py",
   "mimetype": "text/x-python",
   "name": "python",
   "nbconvert_exporter": "python",
   "pygments_lexer": "ipython3",
   "version": "3.7.6"
  }
 },
 "nbformat": 4,
 "nbformat_minor": 1
}
