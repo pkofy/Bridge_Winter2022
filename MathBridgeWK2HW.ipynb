{
 "cells": [
  {
   "cell_type": "markdown",
   "metadata": {
    "id": "Dd2FRrNIjtUb"
   },
   "source": [
    "#Math Bridge Week 2 Homework#\n",
    "\n",
    "###PK O'Flaherty - 11/15/2021###\n",
    "\n",
    "Do not use built in programs to do the following. Write the programs to demonstrate that you understand the math behind them. Provide all solutions in an .html file. \n",
    "\n",
    "**1.  Write a Python program to compute the eigenvalues and eigenvectors of a given square array.**"
   ]
  },
  {
   "cell_type": "code",
   "execution_count": 19,
   "metadata": {
    "id": "0ko2H5c5j0Om"
   },
   "outputs": [],
   "source": [
    "#import to solve the determinant of the matrix \n",
    "from sympy import symbols, Eq, solve\n",
    "\n",
    "#function takes four numbers and turns it into an [a, b; c, d] 2x2 matrix, and\n",
    "#returns the eigenvalues and eigenvectors\n",
    "def eigenvv(a, b, c, d):\n",
    "  #make the matrix\n",
    "  matrixorig = [[a, b], [c, d]]\n",
    "  #calculate the eigenvalues\n",
    "  x = symbols('lambda')\n",
    "  determinant = Eq((a-x)*(d-x)-b*c, 0)\n",
    "  eigenvalues = solve(determinant)\n",
    "  #calculate the eigenvectors\n",
    "  eigenvector1 = [[a-eigenvalues[0], b], [c, d-eigenvalues[0]]]\n",
    "  eigenvector2 = [[a-eigenvalues[1], b], [c, d-eigenvalues[1]]]\n",
    "  #show results\n",
    "  print('Your original matrix is:')\n",
    "  print(matrixorig)\n",
    "  print('The eigenvalues are:')\n",
    "  print(eigenvalues)\n",
    "  print('The first eigenvector is:')\n",
    "  print(eigenvector1)\n",
    "  print('The second eigenvector is:')\n",
    "  print(eigenvector2)\n",
    "\n"
   ]
  },
  {
   "cell_type": "code",
   "execution_count": 24,
   "metadata": {
    "colab": {
     "base_uri": "https://localhost:8080/"
    },
    "id": "NnfgECAhOg_A",
    "outputId": "9c675251-82bd-43a8-cd00-f5695319d73e"
   },
   "outputs": [
    {
     "name": "stdout",
     "output_type": "stream",
     "text": [
      "Your original matrix is:\n",
      "[[-1, 0], [1, 2]]\n",
      "The eigenvalues are:\n",
      "[-1, 2]\n",
      "The first eigenvector is:\n",
      "[[0, 0], [1, 3]]\n",
      "The second eigenvector is:\n",
      "[[-3, 0], [1, 0]]\n"
     ]
    }
   ],
   "source": [
    "#usage example\n",
    "eigenvv(-1,0,1,2)"
   ]
  },
  {
   "cell_type": "markdown",
   "metadata": {
    "id": "m3sL0Hcwj09r"
   },
   "source": [
    "**2.  Write a Python program to compute the determinant of an array.**\n"
   ]
  },
  {
   "cell_type": "code",
   "execution_count": 51,
   "metadata": {
    "id": "wg23G1Q7j1gt"
   },
   "outputs": [],
   "source": [
    "import numpy as np\n",
    "\n",
    "def simpledeterminant(N):\n",
    "  determinant = np.linalg.det(N)\n",
    "  print(determinant)\n",
    "\n",
    "def determinantof2x2matrix(N):\n",
    "  determinant = N[0][0]*N[1][1] - N[0][1]*N[1][0]\n",
    "  return determinant\n",
    "\n",
    "#using Laplace expansion\n",
    "def determinantof3x3matrix(N):\n",
    "  cofactor1 = [[11, 12], [21, 22]]\n",
    "  cofactor2 = [[10, 12], [20, 22]]\n",
    "  cofactor3 = [[10, 11], [20, 21]]\n",
    "  term1 = N[0][0]*determinantof2x2matrix(cofactor1)\n",
    "  term2 = N[0][1]*determinantof2x2matrix(cofactor2)\n",
    "  term3 = N[0][2]*determinantof2x2matrix(cofactor3)\n",
    "  determinant = term1 - term2 + term3\n",
    "  return determinant"
   ]
  },
  {
   "cell_type": "code",
   "execution_count": 55,
   "metadata": {
    "colab": {
     "base_uri": "https://localhost:8080/"
    },
    "id": "G_mijvKR2r4-",
    "outputId": "5daaf006-40e6-4d71-abb4-6b1615c86633"
   },
   "outputs": [
    {
     "name": "stdout",
     "output_type": "stream",
     "text": [
      "-2.0000000000000004\n",
      "-2\n",
      "0.0\n",
      "0\n"
     ]
    }
   ],
   "source": [
    "matrix2by2 = [[1, 2], [3, 4]]\n",
    "matrix3by3 = [[1, 2, 3], [4, 5, 6], [7, 8, 9]]\n",
    "\n",
    "#builtin solver answer followed by formula answer\n",
    "simpledeterminant(matrix2by2)\n",
    "print(determinantof2x2matrix(matrix2by2))\n",
    "\n",
    "#builtin solver answer followed by formula answer\n",
    "simpledeterminant(matrix3by3)\n",
    "print(determinantof3x3matrix(matrix3by3))"
   ]
  },
  {
   "cell_type": "markdown",
   "metadata": {
    "id": "JTa53r-Jj2i_"
   },
   "source": [
    "**3.  Write a Python program that solves a system of inequalities with a 4 x 4 square matrix A where Ax=b.**"
   ]
  },
  {
   "cell_type": "code",
   "execution_count": 33,
   "metadata": {
    "id": "e9vqFE35j3Ma"
   },
   "outputs": [],
   "source": [
    "import numpy as np\n",
    "\n",
    "#using solve function\n",
    "def simplesolver(A, b):\n",
    "  x = np.linalg.solve(A,b)\n",
    "  print(x)\n",
    "\n",
    "#using inverse matrix to solve\n",
    "def othersolver(A, b):\n",
    "  A_inv = np.linalg.inv(A)\n",
    "  x = np.dot(A_inv, b)\n",
    "  print(x)\n",
    "\n",
    "#I can calculate the inverse on paper and I tried to generalize it in python\n",
    "#but it was a brash behemoth.  If that was the assignment, let me know and\n",
    "#I'll finish it.  Thank you!"
   ]
  },
  {
   "cell_type": "code",
   "execution_count": 34,
   "metadata": {
    "colab": {
     "base_uri": "https://localhost:8080/"
    },
    "id": "rD0cU1QcwPlp",
    "outputId": "521f40d9-8310-4b53-a4f0-9b32fbc461e1"
   },
   "outputs": [
    {
     "name": "stdout",
     "output_type": "stream",
     "text": [
      "[1. 2. 3. 4.]\n",
      "[1. 2. 3. 4.]\n"
     ]
    }
   ],
   "source": [
    "A = np.array([[-5, 4, 3, 5],[0, -2, 2, -7],[6, 7, 1, 8],[-4, -1, -3, -6]])\n",
    "b = np.array([32, -26, 55, -39])\n",
    "simplesolver(A,b)\n",
    "othersolver(A,b)\n"
   ]
  }
 ],
 "metadata": {
  "colab": {
   "name": "Untitled3.ipynb",
   "provenance": []
  },
  "kernelspec": {
   "display_name": "Python 3",
   "language": "python",
   "name": "python3"
  },
  "language_info": {
   "codemirror_mode": {
    "name": "ipython",
    "version": 3
   },
   "file_extension": ".py",
   "mimetype": "text/x-python",
   "name": "python",
   "nbconvert_exporter": "python",
   "pygments_lexer": "ipython3",
   "version": "3.7.6"
  }
 },
 "nbformat": 4,
 "nbformat_minor": 1
}
